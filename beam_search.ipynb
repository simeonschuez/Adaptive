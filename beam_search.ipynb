{
 "cells": [
  {
   "cell_type": "code",
   "execution_count": 46,
   "metadata": {},
   "outputs": [],
   "source": [
    "import json\n",
    "import glob\n",
    "import pickle\n",
    "from PIL import Image\n",
    "import torch\n",
    "import torch.nn.functional as F\n",
    "import torchvision\n",
    "from torchvision import transforms\n",
    "from build_vocab import Vocabulary\n",
    "from adaptive import Encoder2Decoder\n",
    "import random\n",
    "from os.path import join\n",
    "from tqdm.autonotebook import tqdm\n",
    "\n",
    "from coco.pycocotools.coco import COCO\n",
    "from coco.pycocoevalcap.eval import COCOEvalCap"
   ]
  },
  {
   "cell_type": "code",
   "execution_count": 2,
   "metadata": {},
   "outputs": [],
   "source": [
    "def beam_search(images, model, beam_width=5, max_len=20):\n",
    "    ''' Beam search decoder '''\n",
    "    # initilizer model to obtain V, v_g\n",
    "    V, v_g, captions = model.init_sampler(images)\n",
    "    states = None\n",
    "\n",
    "    for step in range(max_len):\n",
    "        scores, states, _, _ = model.decoder(V, v_g, captions, states)\n",
    "        scores = F.softmax(scores, dim=2)\n",
    "\n",
    "        best_scores, token_index = torch.topk(scores, beam_width, dim=2)\n",
    "        best_scores = best_scores.squeeze()\n",
    "        token_index = token_index.squeeze()\n",
    "\n",
    "        if step == 0:\n",
    "            # expand vectors\n",
    "            V = V.repeat(beam_width, 1, 1)\n",
    "            v_g = v_g.repeat(beam_width, 1)\n",
    "            states = (states[0].repeat(1, beam_width, 1),\n",
    "                      states[1].repeat(1, beam_width, 1))\n",
    "\n",
    "            scores = best_scores.view(-1, 1)\n",
    "            prev_scores = scores\n",
    "            captions = token_index.view(-1, 1)\n",
    "            candidates = captions\n",
    "\n",
    "        else:\n",
    "        # update scores for unfinished candidate captions\n",
    "            non_eos = candidates[:, -1] != 2\n",
    "            #non_eos = non_eos.squeeze()\n",
    "\n",
    "            best_scores[candidates[:, -1] == 2] = -1e20\n",
    "            #n_scores = prev_scores\n",
    "            prev_scores = (prev_scores.view(-1, 1).expand_as(\n",
    "                best_scores)[non_eos]*step + best_scores[non_eos])/(step+1)\n",
    "\n",
    "            token_index[candidates[:, -1] == 2] = 2\n",
    "\n",
    "            scores = prev_scores.view(-1)\n",
    "            tokens = token_index.view(-1)\n",
    "\n",
    "            # keep the best beam_width candidates\n",
    "            prev_scores, indices = torch.topk(scores, beam_width, dim=0)\n",
    "            tokens = torch.gather(tokens, 0, indices).view(-1)\n",
    "            states = (states[0][:, indices/beam_width, :],\n",
    "                      states[1][:, indices/beam_width, :])\n",
    "\n",
    "            captions = tokens.view(-1, 1)\n",
    "            candidates = torch.cat([candidates[indices/beam_width], captions],\n",
    "                                   dim=1)\n",
    "\n",
    "            if candidates[prev_scores.topk(1)[1]].squeeze().tolist()[-1] == 2:\n",
    "                return (prev_scores.topk(1)[0].item(),\n",
    "                        candidates[prev_scores.topk(1)[1]].squeeze().tolist())\n",
    "\n",
    "    return (prev_scores.topk(1)[0].item(),\n",
    "            candidates[prev_scores.topk(1)[1]].squeeze().tolist())"
   ]
  },
  {
   "cell_type": "code",
   "execution_count": 16,
   "metadata": {},
   "outputs": [],
   "source": [
    "with open('/mnt/local/AdaptiveAttentionModel/coco_splits.json') as f:\n",
    "    karpathy = json.load(f)"
   ]
  },
  {
   "cell_type": "code",
   "execution_count": 22,
   "metadata": {},
   "outputs": [],
   "source": [
    "val_imgs = [i for i in karpathy['images'] if i['split'] == 'val']\n",
    "val_files = [i['filename'] for i in val_imgs]"
   ]
  },
  {
   "cell_type": "code",
   "execution_count": 30,
   "metadata": {},
   "outputs": [],
   "source": [
    "CROP_SIZE = 224\n",
    "\n",
    "with open('/mnt/local/AdaptiveAttentionModel/vocab.pkl', 'rb') as f:\n",
    "        vocab = pickle.load(f)\n",
    "\n",
    "transform = transforms.Compose([transforms.Resize((CROP_SIZE, CROP_SIZE)),\n",
    "                                transforms.ToTensor(),\n",
    "                                transforms.Normalize((0.485, 0.456, 0.406),\n",
    "                                                     (0.229, 0.224, 0.225))])\n",
    "\n",
    "model = Encoder2Decoder(256, len(vocab), 512)\n",
    "model.load_state_dict(torch.load(\"/mnt/local/AdaptiveAttentionModel/adaptive-11.pkl\",map_location='cpu' ))\n",
    "model.cuda()\n",
    "model.eval()\n",
    "\n",
    "img_dir = '/home/vu48pok/.data/compling/data/corpora/external/MSCOCO/COCO/resized/val2014/'"
   ]
  },
  {
   "cell_type": "code",
   "execution_count": 54,
   "metadata": {},
   "outputs": [
    {
     "data": {
      "application/vnd.jupyter.widget-view+json": {
       "model_id": "abf5e1f43c2d4ab0947fdd85c6c49edc",
       "version_major": 2,
       "version_minor": 0
      },
      "text/plain": [
       "HBox(children=(FloatProgress(value=0.0, max=5000.0), HTML(value='')))"
      ]
     },
     "metadata": {},
     "output_type": "display_data"
    },
    {
     "name": "stdout",
     "output_type": "stream",
     "text": [
      "\n"
     ]
    }
   ],
   "source": [
    "max_beam_width = 15\n",
    "results = []\n",
    "bw = 3\n",
    "\n",
    "for img in tqdm(val_imgs):\n",
    "    filename = img['filename']\n",
    "    img_id = img['cocoid']\n",
    "    \n",
    "    img_path = join(img_dir, filename)\n",
    "    image = Image.open(img_path).convert('RGB')\n",
    "    image = image.resize([224, 224], Image.LANCZOS)\n",
    "    image = transform(image)\n",
    "\n",
    "    \n",
    "    (prob, best) = beam_search(image.cuda().view(1, 3, 224, 224), model, beam_width=bw, max_len=20)\n",
    "    words = []\n",
    "    for ix in best:\n",
    "        #ix = ix.tolist()[0][0]\n",
    "        words.append(vocab.idx2word[ix])\n",
    "        \n",
    "    sentence = \" \".join(words[:-1])    \n",
    "    temp = {'image_id': img_id, 'caption': sentence}\n",
    "    \n",
    "    results.append(temp)"
   ]
  },
  {
   "cell_type": "code",
   "execution_count": 55,
   "metadata": {},
   "outputs": [],
   "source": [
    "resFile = \"/home/vu48pok/Dokumente/Projekte/diversity/AdaptiveAttentionModel/results/beam_search_results.json\"\n",
    "with open(resFile, \"w\") as f:\n",
    "    json.dump(results, f)"
   ]
  },
  {
   "cell_type": "code",
   "execution_count": 56,
   "metadata": {},
   "outputs": [
    {
     "name": "stdout",
     "output_type": "stream",
     "text": [
      "loading annotations into memory...\n",
      "0:00:00.021655\n",
      "creating index...\n",
      "index created!\n",
      "Loading and preparing results...     \n",
      "DONE (t=0.02s)\n",
      "creating index...\n",
      "index created!\n",
      "tokenization...\n",
      "setting up scorers...\n",
      "computing Bleu score...\n",
      "{'testlen': 46841, 'reflen': 46805, 'guess': [46841, 41841, 36841, 31841], 'correct': [30914, 14585, 6536, 2896]}\n",
      "ratio: 1.0007691485952142\n",
      "Bleu_1: 0.660\n",
      "Bleu_2: 0.480\n",
      "Bleu_3: 0.344\n",
      "Bleu_4: 0.247\n",
      "computing CIDEr score...\n",
      "CIDEr: 0.770\n"
     ]
    }
   ],
   "source": [
    "annFile = '/home/vu48pok/Dokumente/Projekte/diversity/AdaptiveAttentionModel/data/annotations/karpathy_split_val.json'\n",
    "\n",
    "coco = COCO(annFile)\n",
    "cocoRes = coco.loadRes(resFile)\n",
    "\n",
    "cocoEval = COCOEvalCap(coco, cocoRes)\n",
    "cocoEval.params['image_id'] = cocoRes.getImgIds()\n",
    "cocoEval.evaluate()"
   ]
  },
  {
   "cell_type": "code",
   "execution_count": null,
   "metadata": {},
   "outputs": [],
   "source": []
  }
 ],
 "metadata": {
  "kernelspec": {
   "display_name": "spacy",
   "language": "python",
   "name": "spacy"
  },
  "language_info": {
   "codemirror_mode": {
    "name": "ipython",
    "version": 3
   },
   "file_extension": ".py",
   "mimetype": "text/x-python",
   "name": "python",
   "nbconvert_exporter": "python",
   "pygments_lexer": "ipython3",
   "version": "3.6.7"
  }
 },
 "nbformat": 4,
 "nbformat_minor": 4
}
